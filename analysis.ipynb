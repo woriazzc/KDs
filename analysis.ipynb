{
 "cells": [
  {
   "cell_type": "code",
   "execution_count": 1,
   "metadata": {},
   "outputs": [],
   "source": [
    "import os\n",
    "import random\n",
    "import numpy as np\n",
    "import pandas as pd\n",
    "import seaborn as sns\n",
    "import pickle\n",
    "import torch\n",
    "import matplotlib.pyplot as plt"
   ]
  },
  {
   "cell_type": "code",
   "execution_count": 3,
   "metadata": {},
   "outputs": [
    {
     "name": "stdout",
     "output_type": "stream",
     "text": [
      "Recall@10\n",
      "0\n",
      "\n",
      "Recall@20\n",
      "0\n",
      "\n",
      "NDCG@10\n",
      "0\n",
      "\n",
      "NDCG@20\n",
      "0\n",
      "\n"
     ]
    }
   ],
   "source": [
    "import re\n",
    "import os\n",
    "import numpy as np\n",
    "\n",
    "fdir = 'search/log/gowalla_bpr_scratch/'\n",
    "for me in ['Recall@10', 'Recall@20', 'NDCG@10', 'NDCG@20']:\n",
    "    print(me)\n",
    "    mx = 0\n",
    "    mxf = ''\n",
    "    for i in os.listdir(fdir):\n",
    "        fs = os.path.join(fdir, i)\n",
    "        with open(fs, 'r') as f:\n",
    "            s = f.read()\n",
    "        pt = re.compile(r\".*test.*'%s': ([\\d\\.\\-\\+e]+).*\"%me)\n",
    "        try:\n",
    "            m = eval(pt.search(s).group(1))\n",
    "            if m > mx:\n",
    "                mx = m\n",
    "                mxf = i\n",
    "        except:\n",
    "            # print(i)\n",
    "            pass\n",
    "    print(mx)\n",
    "    print(mxf)"
   ]
  },
  {
   "cell_type": "code",
   "execution_count": null,
   "metadata": {},
   "outputs": [],
   "source": []
  }
 ],
 "metadata": {
  "kernelspec": {
   "display_name": "pytorch",
   "language": "python",
   "name": "python3"
  },
  "language_info": {
   "codemirror_mode": {
    "name": "ipython",
    "version": 3
   },
   "file_extension": ".py",
   "mimetype": "text/x-python",
   "name": "python",
   "nbconvert_exporter": "python",
   "pygments_lexer": "ipython3",
   "version": "3.9.16"
  }
 },
 "nbformat": 4,
 "nbformat_minor": 2
}
