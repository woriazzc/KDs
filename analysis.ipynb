{
 "cells": [
  {
   "cell_type": "code",
   "execution_count": 1,
   "metadata": {},
   "outputs": [],
   "source": [
    "import os\n",
    "import random\n",
    "import numpy as np\n",
    "import pandas as pd\n",
    "import seaborn as sns\n",
    "import pickle\n",
    "import torch\n",
    "import matplotlib.pyplot as plt"
   ]
  },
  {
   "cell_type": "code",
   "execution_count": 10,
   "metadata": {},
   "outputs": [
    {
     "name": "stdout",
     "output_type": "stream",
     "text": [
      "Recall@10\n",
      "embedding_dim_20_wd_1e-3.log\n",
      "embedding_dim_700_wd_1e-6.log\n",
      "embedding_dim_700_wd_1e-4.log\n",
      "0.10882\n",
      "embedding_dim_300_wd_1e-4.log\n",
      "Recall@20\n",
      "embedding_dim_20_wd_1e-3.log\n",
      "embedding_dim_700_wd_1e-6.log\n",
      "embedding_dim_700_wd_1e-4.log\n",
      "0.15448\n",
      "embedding_dim_300_wd_1e-4.log\n",
      "NDCG@10\n",
      "embedding_dim_20_wd_1e-3.log\n",
      "embedding_dim_700_wd_1e-6.log\n",
      "embedding_dim_700_wd_1e-4.log\n",
      "0.09078\n",
      "embedding_dim_300_wd_1e-4.log\n",
      "NDCG@20\n",
      "embedding_dim_20_wd_1e-3.log\n",
      "embedding_dim_700_wd_1e-6.log\n",
      "embedding_dim_700_wd_1e-4.log\n",
      "0.10538\n",
      "embedding_dim_300_wd_1e-4.log\n"
     ]
    }
   ],
   "source": [
    "import re\n",
    "import os\n",
    "import numpy as np\n",
    "\n",
    "fdir = 'search/log/gowalla_bpr_scratch/'\n",
    "for me in ['Recall@10', 'Recall@20', 'NDCG@10', 'NDCG@20']:\n",
    "    print(me)\n",
    "    mx = 0\n",
    "    mxf = ''\n",
    "    for i in os.listdir(fdir):\n",
    "        # if \"dim_20_\" not in i:\n",
    "        #     continue\n",
    "        fs = os.path.join(fdir, i)\n",
    "        with open(fs, 'r') as f:\n",
    "            s = f.read()\n",
    "        pt = re.compile(r\".*test.*%s: ([\\d\\.\\-\\+e]+).*\"%me)\n",
    "        try:\n",
    "            m = eval(pt.search(s).group(1))\n",
    "            if m > mx:\n",
    "                mx = m\n",
    "                mxf = i\n",
    "        except:\n",
    "            print(i)\n",
    "            pass\n",
    "    print(mx)\n",
    "    print(mxf)"
   ]
  },
  {
   "cell_type": "code",
   "execution_count": null,
   "metadata": {},
   "outputs": [],
   "source": []
  }
 ],
 "metadata": {
  "kernelspec": {
   "display_name": "pytorch",
   "language": "python",
   "name": "python3"
  },
  "language_info": {
   "codemirror_mode": {
    "name": "ipython",
    "version": 3
   },
   "file_extension": ".py",
   "mimetype": "text/x-python",
   "name": "python",
   "nbconvert_exporter": "python",
   "pygments_lexer": "ipython3",
   "version": "3.9.16"
  }
 },
 "nbformat": 4,
 "nbformat_minor": 2
}
